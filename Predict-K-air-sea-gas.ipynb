{
 "cells": [
  {
   "cell_type": "markdown",
   "id": "102444c2",
   "metadata": {},
   "source": [
    "# Predicting K - In Depth Analysis with SHAP\n",
    "This notebook is a companion to the paper Deciphering the variability in air-sea gas transfer due to sea state and wind history\n",
    "\n",
    "Written by David Moffat dmof@pml.ac.uk 2024-06-04\n",
    "\n"
   ]
  },
  {
   "cell_type": "code",
   "execution_count": 1,
   "id": "3760063a",
   "metadata": {
    "tags": []
   },
   "outputs": [],
   "source": [
    "# !pip install shap\n",
    "# import shap"
   ]
  },
  {
   "cell_type": "code",
   "execution_count": 2,
   "id": "6be79ffc",
   "metadata": {
    "tags": []
   },
   "outputs": [],
   "source": [
    "%matplotlib inline\n",
    "\n",
    "import glob, os, math, pathlib\n",
    "import numpy as np\n",
    "import pandas as pd\n",
    "import sklearn as sk\n",
    "import sklearn.ensemble\n",
    "import sklearn.feature_selection\n",
    "import matplotlib.pyplot as plt\n",
    "import matplotlib as mpl\n",
    "\n",
    "# # Bad Practice - but remove all warnings for now.\n",
    "# import warnings\n",
    "# warnings.filterwarnings(\"ignore\")\n",
    "\n",
    "fig_dir = 'new_figs'\n",
    "pathlib.Path(fig_dir).mkdir(parents=True, exist_ok=True)\n",
    "\n",
    "seed = 950"
   ]
  },
  {
   "cell_type": "markdown",
   "id": "b82be0e5",
   "metadata": {},
   "source": [
    "## Read In Data\n",
    "Read in the data and merge into a single dataset, adding the cruise name as a variable and dropping all rows where k is `NaN`. We set the predictors and prediction variables, and investigate the dataset."
   ]
  },
  {
   "cell_type": "code",
   "execution_count": 3,
   "id": "528d7c37",
   "metadata": {},
   "outputs": [
    {
     "name": "stdout",
     "output_type": "stream",
     "text": [
      "  % Total    % Received % Xferd  Average Speed   Time    Time     Time  Current\n",
      "                                 Dload  Upload   Total   Spent    Left  Speed\n",
      "100  496k  100  496k    0     0  1202k      0 --:--:-- --:--:-- --:--:-- 1200k\n",
      "Archive:  training_data.zip\n",
      "   creating: Reevaluated flux data/\n",
      "  inflating: Reevaluated flux data/SOAP_table_long.txt  \n",
      "   creating: __MACOSX/\n",
      "   creating: __MACOSX/Reevaluated flux data/\n",
      "  inflating: __MACOSX/Reevaluated flux data/._SOAP_table_long.txt  \n",
      "  inflating: Reevaluated flux data/ANDREXII_table_long.txt  \n",
      "  inflating: __MACOSX/Reevaluated flux data/._ANDREXII_table_long.txt  \n",
      "  inflating: Reevaluated flux data/JR18007_table_long.txt  \n",
      "  inflating: __MACOSX/Reevaluated flux data/._JR18007_table_long.txt  \n",
      "  inflating: Reevaluated flux data/HiWinGS_table_long.txt  \n",
      "  inflating: __MACOSX/Reevaluated flux data/._HiWinGS_table_long.txt  \n",
      "  inflating: Reevaluated flux data/Knorr11_table_long.txt  \n",
      "  inflating: __MACOSX/Reevaluated flux data/._Knorr11_table_long.txt  \n",
      "  inflating: Reevaluated flux data/NBP_1210_1402_table_long.txt  \n",
      "  inflating: __MACOSX/Reevaluated flux data/._NBP_1210_1402_table_long.txt  \n",
      "  inflating: Reevaluated flux data/SO_234_235_table_long.txt  \n",
      "  inflating: __MACOSX/Reevaluated flux data/._SO_234_235_table_long.txt  \n",
      "  inflating: Reevaluated flux data/Knorr07_table_long.txt  \n",
      "  inflating: __MACOSX/Reevaluated flux data/._Knorr07_table_long.txt  \n"
     ]
    }
   ],
   "source": [
    "!rm -rf \"Reevaluated flux data\"\n",
    "!curl -o training_data.zip https://www.frontiersin.org/articles/file/downloadfile/826421_supplementary-materials_datasheets_1_zip/octet-stream/Data%20Sheet%201.ZIP/1/826421?isPublishedV2=False\n",
    "!unzip training_data.zip\n",
    "!rm -rf __MACOSX"
   ]
  },
  {
   "cell_type": "code",
   "execution_count": 4,
   "id": "7167b556",
   "metadata": {
    "tags": []
   },
   "outputs": [
    {
     "data": {
      "text/plain": [
       "['Reevaluated flux data/SOAP_table_long.txt',\n",
       " 'Reevaluated flux data/SO_234_235_table_long.txt',\n",
       " 'Reevaluated flux data/Knorr07_table_long.txt',\n",
       " 'Reevaluated flux data/JR18007_table_long.txt',\n",
       " 'Reevaluated flux data/HiWinGS_table_long.txt',\n",
       " 'Reevaluated flux data/NBP_1210_1402_table_long.txt',\n",
       " 'Reevaluated flux data/ANDREXII_table_long.txt',\n",
       " 'Reevaluated flux data/Knorr11_table_long.txt']"
      ]
     },
     "execution_count": 4,
     "metadata": {},
     "output_type": "execute_result"
    }
   ],
   "source": [
    "file_list = glob.glob('Reevaluated flux data/*')\n",
    "file_list"
   ]
  },
  {
   "cell_type": "code",
   "execution_count": 5,
   "id": "2f3b8e4f",
   "metadata": {
    "tags": []
   },
   "outputs": [],
   "source": [
    "df_list = []\n",
    "for file_load in file_list:\n",
    "#     print(file_load[5:-15])\n",
    "    df_ = pd.read_csv(file_load,\n",
    "                     parse_dates=[0],\n",
    "                     skiprows=range(36),\n",
    "                     sep='\\t',\n",
    "                     )\n",
    "    df_.dropna(subset=['kCO2660_cm_hr'], inplace=True)\n",
    "    df_['Cruise'] = file_load.split('/')[-1][:-15]\n",
    "    df_list.append(df_)\n",
    "\n",
    "df = pd.concat(df_list, \n",
    "               axis=0, \n",
    "               ignore_index=True\n",
    "              )\n"
   ]
  },
  {
   "cell_type": "markdown",
   "id": "87956308",
   "metadata": {},
   "source": [
    "To model the directional data, a create a new variable `Wdir_swell_angle_difference` as the absolute difference between the angles of the _windwave_ and _swell_, so that the angular difference, rather than two absolute angles are considered."
   ]
  },
  {
   "cell_type": "code",
   "execution_count": 6,
   "id": "7a26f7af",
   "metadata": {
    "tags": []
   },
   "outputs": [],
   "source": [
    "# Angle between swell and windwave\n",
    "# df['Wdir_swell_angle_difference'] = 180 - np.abs(np.abs(df.Wdir_ECMWF_deg - df.Swell_dir_ECMWF_deg)-180)\n",
    "rad_angle_diff = (df.Wdir_ECMWF_deg - df.Swell_dir_ECMWF_deg)*math.pi/180\n",
    "df['Wdir_swell_angle_arctan'] = np.arctan2(np.sin(rad_angle_diff), np.cos(rad_angle_diff))"
   ]
  },
  {
   "cell_type": "code",
   "execution_count": 7,
   "id": "877fb841",
   "metadata": {
    "tags": []
   },
   "outputs": [],
   "source": [
    "# wavelength from wave period in m\n",
    "df['Wave_total_wavelength'] = (9.81 * df.MeanPeriod_ECMWF_tot_s**2) / (2*np.pi)\n",
    "\n",
    "# steepness of waves: wave height/wavelength\n",
    "df['Wave_total_steepness'] = df.Hs_ECMWF_tot_m / df.Wave_total_wavelength\n",
    "\n",
    "# phase speed of waves. computed using deep water dispersion relationship\n",
    "df['Wave_total_Cp'] = np.sqrt(9.81/(2*np.pi/df.Wave_total_wavelength))  \n",
    "\n",
    "# wave age. larger for mature waves (>1 means fully developed); smaller for young waves\n",
    "df['Wave_total_WaveAge'] = df.Wave_total_Cp / df.U10n_insitu_m_s  \n",
    "\n",
    "#inverse wave age. might be easier to look at than wave age\n",
    "df['Wave_total_WaveAge_inv'] = 1/df.Wave_total_WaveAge    \n",
    "\n",
    "# cos of lat\n",
    "df['lat_cos'] = np.cos(df.lat_deg / 180 * 2*np.pi)"
   ]
  },
  {
   "cell_type": "code",
   "execution_count": 8,
   "id": "e0261d4e",
   "metadata": {
    "tags": []
   },
   "outputs": [],
   "source": [
    "df.sort_values(by='YearMonthDay_TimeUTC', inplace=True)"
   ]
  },
  {
   "cell_type": "code",
   "execution_count": 9,
   "id": "c1f6fad8",
   "metadata": {
    "tags": []
   },
   "outputs": [],
   "source": [
    "df.sort_values(by='YearMonthDay_TimeUTC', inplace=True)\n",
    "df['T_lag'] = df['YearMonthDay_TimeUTC'] - df['YearMonthDay_TimeUTC'].shift()\n",
    "df['U10-1h_lag'] = df['U10n_insitu_m_s'].sort_values().shift()\n",
    "df.loc[df['T_lag'] != pd.Timedelta('1:00:00'), 'U10-1h_lag'] = np.nan"
   ]
  },
  {
   "cell_type": "code",
   "execution_count": 10,
   "id": "cb9d6756",
   "metadata": {
    "tags": []
   },
   "outputs": [],
   "source": [
    "predictors = [\n",
    "    'U10n_insitu_m_s',\n",
    "    'U10-1h_lag',\n",
    "    'Hs_ECMWF_windsea_m',\n",
    "    'Hs_ECMWF_swell_m',\n",
    "    'Wdir_swell_angle_arctan',\n",
    "    'Hs_ECMWF_tot_m',\n",
    "    'Wave_total_wavelength',\n",
    "    'Wave_total_steepness',\n",
    "    'Wave_total_Cp',\n",
    "    'Wave_total_WaveAge',\n",
    "    'Wave_total_WaveAge_inv',\n",
    "    'MeanPeriod_ECMWF_tot_s',\n",
    "    'MeanPeriod_ECMWF_swell_s',\n",
    "    'SST_C',\n",
    "#     'lat_deg',\n",
    "    'lat_cos',\n",
    "    \n",
    "]\n",
    "predictions = [\"kCO2660_cm_hr\"]\n",
    "var_units = {'kCO2660_cm_hr':'cm/hr'}\n"
   ]
  },
  {
   "cell_type": "code",
   "execution_count": 11,
   "id": "3ee68f75",
   "metadata": {
    "tags": []
   },
   "outputs": [
    {
     "name": "stdout",
     "output_type": "stream",
     "text": [
      "kCO2660_cm_hr Values per Cruise\n"
     ]
    },
    {
     "data": {
      "text/html": [
       "<div>\n",
       "<style scoped>\n",
       "    .dataframe tbody tr th:only-of-type {\n",
       "        vertical-align: middle;\n",
       "    }\n",
       "\n",
       "    .dataframe tbody tr th {\n",
       "        vertical-align: top;\n",
       "    }\n",
       "\n",
       "    .dataframe thead th {\n",
       "        text-align: right;\n",
       "    }\n",
       "</style>\n",
       "<table border=\"1\" class=\"dataframe\">\n",
       "  <thead>\n",
       "    <tr style=\"text-align: right;\">\n",
       "      <th></th>\n",
       "      <th>count_nonzero</th>\n",
       "      <th>amin</th>\n",
       "      <th>amax</th>\n",
       "      <th>mean</th>\n",
       "      <th>median</th>\n",
       "    </tr>\n",
       "    <tr>\n",
       "      <th>Cruise</th>\n",
       "      <th></th>\n",
       "      <th></th>\n",
       "      <th></th>\n",
       "      <th></th>\n",
       "      <th></th>\n",
       "    </tr>\n",
       "  </thead>\n",
       "  <tbody>\n",
       "    <tr>\n",
       "      <th>HiWinGS</th>\n",
       "      <td>530</td>\n",
       "      <td>-9.239710</td>\n",
       "      <td>209.5580</td>\n",
       "      <td>48.183285</td>\n",
       "      <td>39.9372</td>\n",
       "    </tr>\n",
       "    <tr>\n",
       "      <th>JR18007</th>\n",
       "      <td>311</td>\n",
       "      <td>-21.284100</td>\n",
       "      <td>57.2259</td>\n",
       "      <td>13.974913</td>\n",
       "      <td>12.5056</td>\n",
       "    </tr>\n",
       "    <tr>\n",
       "      <th>NBP_1210_1402</th>\n",
       "      <td>301</td>\n",
       "      <td>-30.076400</td>\n",
       "      <td>96.9006</td>\n",
       "      <td>16.964496</td>\n",
       "      <td>12.0896</td>\n",
       "    </tr>\n",
       "    <tr>\n",
       "      <th>SOAP</th>\n",
       "      <td>220</td>\n",
       "      <td>6.264980</td>\n",
       "      <td>75.4946</td>\n",
       "      <td>32.070072</td>\n",
       "      <td>31.7160</td>\n",
       "    </tr>\n",
       "    <tr>\n",
       "      <th>Knorr11</th>\n",
       "      <td>215</td>\n",
       "      <td>5.657600</td>\n",
       "      <td>126.1720</td>\n",
       "      <td>32.635573</td>\n",
       "      <td>29.8038</td>\n",
       "    </tr>\n",
       "    <tr>\n",
       "      <th>ANDREXII</th>\n",
       "      <td>199</td>\n",
       "      <td>-6.557470</td>\n",
       "      <td>92.4572</td>\n",
       "      <td>30.995345</td>\n",
       "      <td>30.0540</td>\n",
       "    </tr>\n",
       "    <tr>\n",
       "      <th>SO_234_235</th>\n",
       "      <td>86</td>\n",
       "      <td>0.041718</td>\n",
       "      <td>63.4562</td>\n",
       "      <td>19.031884</td>\n",
       "      <td>16.9041</td>\n",
       "    </tr>\n",
       "    <tr>\n",
       "      <th>Knorr07</th>\n",
       "      <td>61</td>\n",
       "      <td>3.423770</td>\n",
       "      <td>49.9339</td>\n",
       "      <td>20.519637</td>\n",
       "      <td>19.2014</td>\n",
       "    </tr>\n",
       "  </tbody>\n",
       "</table>\n",
       "</div>"
      ],
      "text/plain": [
       "               count_nonzero       amin      amax       mean   median\n",
       "Cruise                                                               \n",
       "HiWinGS                  530  -9.239710  209.5580  48.183285  39.9372\n",
       "JR18007                  311 -21.284100   57.2259  13.974913  12.5056\n",
       "NBP_1210_1402            301 -30.076400   96.9006  16.964496  12.0896\n",
       "SOAP                     220   6.264980   75.4946  32.070072  31.7160\n",
       "Knorr11                  215   5.657600  126.1720  32.635573  29.8038\n",
       "ANDREXII                 199  -6.557470   92.4572  30.995345  30.0540\n",
       "SO_234_235                86   0.041718   63.4562  19.031884  16.9041\n",
       "Knorr07                   61   3.423770   49.9339  20.519637  19.2014"
      ]
     },
     "execution_count": 11,
     "metadata": {},
     "output_type": "execute_result"
    }
   ],
   "source": [
    "print(f'{predictions[0]} Values per Cruise')\n",
    "df.groupby('Cruise')[predictions[0]].agg([np.count_nonzero, np.min, np.max, np.mean, np.median]).sort_values('count_nonzero', ascending=False)"
   ]
  },
  {
   "cell_type": "markdown",
   "id": "01fa77c2",
   "metadata": {},
   "source": [
    "## Check for Features with NaNs"
   ]
  },
  {
   "cell_type": "markdown",
   "id": "d86c8d25",
   "metadata": {},
   "source": [
    "We will drop any places without windspeed measurements - We could also consuder using an imputer, by filling these data with mean or nearest replacement variables, but drop them for now."
   ]
  },
  {
   "cell_type": "code",
   "execution_count": 12,
   "id": "a071d852",
   "metadata": {
    "tags": []
   },
   "outputs": [
    {
     "name": "stdout",
     "output_type": "stream",
     "text": [
      "kCO2660_cm_hr Values per Cruise\n"
     ]
    },
    {
     "data": {
      "text/html": [
       "<div>\n",
       "<style scoped>\n",
       "    .dataframe tbody tr th:only-of-type {\n",
       "        vertical-align: middle;\n",
       "    }\n",
       "\n",
       "    .dataframe tbody tr th {\n",
       "        vertical-align: top;\n",
       "    }\n",
       "\n",
       "    .dataframe thead th {\n",
       "        text-align: right;\n",
       "    }\n",
       "</style>\n",
       "<table border=\"1\" class=\"dataframe\">\n",
       "  <thead>\n",
       "    <tr style=\"text-align: right;\">\n",
       "      <th></th>\n",
       "      <th>count_nonzero</th>\n",
       "      <th>amin</th>\n",
       "      <th>amax</th>\n",
       "      <th>mean</th>\n",
       "      <th>median</th>\n",
       "    </tr>\n",
       "    <tr>\n",
       "      <th>Cruise</th>\n",
       "      <th></th>\n",
       "      <th></th>\n",
       "      <th></th>\n",
       "      <th></th>\n",
       "      <th></th>\n",
       "    </tr>\n",
       "  </thead>\n",
       "  <tbody>\n",
       "    <tr>\n",
       "      <th>HiWinGS</th>\n",
       "      <td>466</td>\n",
       "      <td>-9.23971</td>\n",
       "      <td>209.5580</td>\n",
       "      <td>48.114604</td>\n",
       "      <td>40.02435</td>\n",
       "    </tr>\n",
       "    <tr>\n",
       "      <th>JR18007</th>\n",
       "      <td>257</td>\n",
       "      <td>-21.28410</td>\n",
       "      <td>57.2259</td>\n",
       "      <td>14.060820</td>\n",
       "      <td>12.50560</td>\n",
       "    </tr>\n",
       "    <tr>\n",
       "      <th>NBP_1210_1402</th>\n",
       "      <td>178</td>\n",
       "      <td>-14.70620</td>\n",
       "      <td>89.4260</td>\n",
       "      <td>18.055371</td>\n",
       "      <td>12.75360</td>\n",
       "    </tr>\n",
       "    <tr>\n",
       "      <th>Knorr11</th>\n",
       "      <td>177</td>\n",
       "      <td>5.65760</td>\n",
       "      <td>126.1720</td>\n",
       "      <td>32.464957</td>\n",
       "      <td>29.59310</td>\n",
       "    </tr>\n",
       "    <tr>\n",
       "      <th>ANDREXII</th>\n",
       "      <td>159</td>\n",
       "      <td>-6.55747</td>\n",
       "      <td>92.4572</td>\n",
       "      <td>30.781069</td>\n",
       "      <td>29.18190</td>\n",
       "    </tr>\n",
       "    <tr>\n",
       "      <th>SOAP</th>\n",
       "      <td>159</td>\n",
       "      <td>9.95884</td>\n",
       "      <td>69.2413</td>\n",
       "      <td>33.000731</td>\n",
       "      <td>32.34250</td>\n",
       "    </tr>\n",
       "    <tr>\n",
       "      <th>SO_234_235</th>\n",
       "      <td>54</td>\n",
       "      <td>2.43012</td>\n",
       "      <td>63.4562</td>\n",
       "      <td>20.217391</td>\n",
       "      <td>17.79080</td>\n",
       "    </tr>\n",
       "    <tr>\n",
       "      <th>Knorr07</th>\n",
       "      <td>31</td>\n",
       "      <td>4.93804</td>\n",
       "      <td>47.7239</td>\n",
       "      <td>21.829672</td>\n",
       "      <td>19.74610</td>\n",
       "    </tr>\n",
       "  </tbody>\n",
       "</table>\n",
       "</div>"
      ],
      "text/plain": [
       "               count_nonzero      amin      amax       mean    median\n",
       "Cruise                                                               \n",
       "HiWinGS                  466  -9.23971  209.5580  48.114604  40.02435\n",
       "JR18007                  257 -21.28410   57.2259  14.060820  12.50560\n",
       "NBP_1210_1402            178 -14.70620   89.4260  18.055371  12.75360\n",
       "Knorr11                  177   5.65760  126.1720  32.464957  29.59310\n",
       "ANDREXII                 159  -6.55747   92.4572  30.781069  29.18190\n",
       "SOAP                     159   9.95884   69.2413  33.000731  32.34250\n",
       "SO_234_235                54   2.43012   63.4562  20.217391  17.79080\n",
       "Knorr07                   31   4.93804   47.7239  21.829672  19.74610"
      ]
     },
     "execution_count": 12,
     "metadata": {},
     "output_type": "execute_result"
    }
   ],
   "source": [
    "df = df.dropna(subset=predictors)\n",
    "\n",
    "print(f'{predictions[0]} Values per Cruise')\n",
    "df.groupby('Cruise')[predictions[0]].agg([np.count_nonzero, np.min, np.max, np.mean, np.median]).sort_values('count_nonzero', ascending=False)"
   ]
  },
  {
   "cell_type": "markdown",
   "id": "d982feab",
   "metadata": {},
   "source": [
    "## Normalise Features\n",
    "\n",
    "We normalise the predictor variables, so that the ML model considers each one to be of even relative importance. This is important as feature scaling can considerably skew ML model results"
   ]
  },
  {
   "cell_type": "code",
   "execution_count": 13,
   "id": "0779ed39",
   "metadata": {
    "tags": []
   },
   "outputs": [],
   "source": [
    "x_scaler = sk.preprocessing.StandardScaler().fit(df[predictors])\n",
    "y_scaler = sk.preprocessing.StandardScaler().fit(df[predictions])\n",
    "\n",
    "x_norm = pd.DataFrame(x_scaler.transform(df[predictors]), columns=predictors)\n",
    "y_norm = pd.DataFrame(y_scaler.transform(df[predictions]), columns=predictions)"
   ]
  },
  {
   "cell_type": "markdown",
   "id": "2218dfe0",
   "metadata": {},
   "source": [
    "This is some code to split the data into training and test, to allow us to understand how generalisable the model is."
   ]
  },
  {
   "cell_type": "code",
   "execution_count": 14,
   "id": "3a71398c",
   "metadata": {
    "tags": []
   },
   "outputs": [],
   "source": [
    "x_train, x_test, y_train, y_test = sk.model_selection.train_test_split(x_norm, \n",
    "                                                                       y_norm, \n",
    "                                                                       train_size=0.65, \n",
    "                                                                       random_state=seed, \n",
    "                                                                       stratify=df.Cruise,\n",
    "                                                                      )\n",
    "\n",
    "x_train = pd.DataFrame(x_train, columns=predictors)\n",
    "x_test = pd.DataFrame(x_test, columns=predictors)\n",
    "y_train = pd.DataFrame(y_train, columns=predictions)\n",
    "y_test = pd.DataFrame(y_test, columns=predictions)"
   ]
  },
  {
   "cell_type": "markdown",
   "id": "1387f05b",
   "metadata": {},
   "source": [
    "Check how many of each cruise datapoints we have in each of the training and test data"
   ]
  },
  {
   "cell_type": "code",
   "execution_count": 29,
   "id": "6b9ab840",
   "metadata": {
    "tags": []
   },
   "outputs": [
    {
     "data": {
      "text/html": [
       "<div>\n",
       "<style scoped>\n",
       "    .dataframe tbody tr th:only-of-type {\n",
       "        vertical-align: middle;\n",
       "    }\n",
       "\n",
       "    .dataframe tbody tr th {\n",
       "        vertical-align: top;\n",
       "    }\n",
       "\n",
       "    .dataframe thead th {\n",
       "        text-align: right;\n",
       "    }\n",
       "</style>\n",
       "<table border=\"1\" class=\"dataframe\">\n",
       "  <thead>\n",
       "    <tr style=\"text-align: right;\">\n",
       "      <th></th>\n",
       "      <th>Train</th>\n",
       "      <th>Test</th>\n",
       "    </tr>\n",
       "  </thead>\n",
       "  <tbody>\n",
       "    <tr>\n",
       "      <th>HiWinGS</th>\n",
       "      <td>303</td>\n",
       "      <td>163</td>\n",
       "    </tr>\n",
       "    <tr>\n",
       "      <th>JR18007</th>\n",
       "      <td>167</td>\n",
       "      <td>90</td>\n",
       "    </tr>\n",
       "    <tr>\n",
       "      <th>NBP_1210_1402</th>\n",
       "      <td>116</td>\n",
       "      <td>62</td>\n",
       "    </tr>\n",
       "    <tr>\n",
       "      <th>Knorr11</th>\n",
       "      <td>115</td>\n",
       "      <td>62</td>\n",
       "    </tr>\n",
       "    <tr>\n",
       "      <th>SOAP</th>\n",
       "      <td>103</td>\n",
       "      <td>56</td>\n",
       "    </tr>\n",
       "    <tr>\n",
       "      <th>ANDREXII</th>\n",
       "      <td>103</td>\n",
       "      <td>56</td>\n",
       "    </tr>\n",
       "    <tr>\n",
       "      <th>SO_234_235</th>\n",
       "      <td>35</td>\n",
       "      <td>19</td>\n",
       "    </tr>\n",
       "    <tr>\n",
       "      <th>Knorr07</th>\n",
       "      <td>20</td>\n",
       "      <td>11</td>\n",
       "    </tr>\n",
       "  </tbody>\n",
       "</table>\n",
       "</div>"
      ],
      "text/plain": [
       "               Train  Test\n",
       "HiWinGS          303   163\n",
       "JR18007          167    90\n",
       "NBP_1210_1402    116    62\n",
       "Knorr11          115    62\n",
       "SOAP             103    56\n",
       "ANDREXII         103    56\n",
       "SO_234_235        35    19\n",
       "Knorr07           20    11"
      ]
     },
     "execution_count": 29,
     "metadata": {},
     "output_type": "execute_result"
    }
   ],
   "source": [
    "# Data per Cruise Counts\n",
    "pd.merge(df.Cruise.iloc[x_train.index].value_counts(),\n",
    "         df.Cruise.iloc[x_test.index].value_counts(),\n",
    "         right_index=True, left_index=True\n",
    "        ).rename(columns={'Cruise_x':'Train', 'Cruise_y':'Test'})"
   ]
  },
  {
   "cell_type": "markdown",
   "id": "d08d0426",
   "metadata": {},
   "source": [
    "# Train Random Forest Model\n",
    "Now we can train a random forest model, based on the full dataset, and visualise the output prediction model.\n",
    "\n",
    "Best model parameters:\n",
    "* Max Features = None\n",
    "* N_estimators = 200\n"
   ]
  },
  {
   "cell_type": "code",
   "execution_count": 16,
   "id": "e22e43ab",
   "metadata": {
    "jupyter": {
     "source_hidden": true
    },
    "tags": []
   },
   "outputs": [],
   "source": [
    "# rf_reg = sk.ensemble.RandomForestRegressor(n_jobs=20, \n",
    "#                                   random_state=seed,\n",
    "# #                                   max_features='sqrt',\n",
    "# #                                   verbose=True,\n",
    "# #                                   oob_score=True,\n",
    "#                                   n_estimators=100,\n",
    "#                                  ).fit(x_train, y_train.squeeze())"
   ]
  },
  {
   "cell_type": "code",
   "execution_count": 17,
   "id": "fb59d42c",
   "metadata": {
    "jupyter": {
     "source_hidden": true
    },
    "tags": []
   },
   "outputs": [],
   "source": [
    "# print(f'train R\\u00b2={rf_reg.score(x_train, y_train):.4f}, test R\\u00b2={rf_reg.score(x_test, y_test):.4f}')"
   ]
  },
  {
   "cell_type": "code",
   "execution_count": 18,
   "id": "ab8949fc",
   "metadata": {
    "jupyter": {
     "source_hidden": true
    },
    "tags": []
   },
   "outputs": [],
   "source": [
    "# est_range = range(20, 500, 20)\n",
    "\n",
    "# results = {}\n",
    "# for est in est_range: \n",
    "#     rf_reg = sk.ensemble.RandomForestRegressor(n_jobs=20, \n",
    "#                                                random_state=seed,\n",
    "#                                                n_estimators=est,\n",
    "#                                                oob_score=True,\n",
    "#                                               ).fit(x_train, y_train.squeeze())\n",
    "#     oob_error = 1 - rf_reg.oob_score_\n",
    "#     train_score = rf_reg.score(x_train, y_train)\n",
    "#     test_score = rf_reg.score(x_test, y_test)\n",
    "#     results[est] = (train_score, test_score, oob_error)\n",
    "#     print(f'{est} Trees: train R\\u00b2={train_score:.4f}, test R\\u00b2={test_score:.4f}, OOB Error={oob_error}')\n",
    "# pd.DataFrame(results, index=['Train','Test', 'OOB Error']).T.plot()"
   ]
  },
  {
   "cell_type": "code",
   "execution_count": 19,
   "id": "dd79eab0",
   "metadata": {
    "jupyter": {
     "source_hidden": true
    },
    "tags": []
   },
   "outputs": [],
   "source": [
    "# from collections import OrderedDict\n",
    "# # NOTE: Setting the `warm_start` construction parameter to `True` disables\n",
    "# # support for parallelized ensembles but is necessary for tracking the OOB\n",
    "# # error trajectory during training.\n",
    "# ensemble_clfs = [\n",
    "#     (\n",
    "#         \"RandomForest, max_features='sqrt'\",\n",
    "#         sk.ensemble.RandomForestRegressor(\n",
    "#             warm_start=True,\n",
    "#             oob_score=True,\n",
    "#             max_features=\"sqrt\",\n",
    "#             random_state=seed,\n",
    "#         ),\n",
    "#     ),\n",
    "#     (\n",
    "#         \"RandomForest, max_features='log2'\",\n",
    "#         sk.ensemble.RandomForestRegressor(\n",
    "#             warm_start=True,\n",
    "#             max_features=\"log2\",\n",
    "#             oob_score=True,\n",
    "#             random_state=seed,\n",
    "#         ),\n",
    "#     ),\n",
    "#     (\n",
    "#         \"RandomForest, max_features=None\",\n",
    "#         sk.ensemble.RandomForestRegressor(\n",
    "#             warm_start=True,\n",
    "#             max_features=None,\n",
    "#             oob_score=True,\n",
    "#             random_state=seed,\n",
    "#         ),\n",
    "#     ),\n",
    "# ]\n",
    "\n",
    "# # Map a classifier name to a list of (<n_estimators>, <error rate>) pairs.\n",
    "# error_rate = OrderedDict((label, []) for label, _ in ensemble_clfs)\n",
    "# train_score = OrderedDict((label, []) for label, _ in ensemble_clfs)\n",
    "# test_score = OrderedDict((label, []) for label, _ in ensemble_clfs)\n",
    "\n",
    "# # Range of `n_estimators` values to explore.\n",
    "# min_estimators = 10\n",
    "# max_estimators = 1000\n",
    "\n",
    "# for label, clf in ensemble_clfs:\n",
    "#     for i in range(min_estimators, max_estimators + 1, 10):\n",
    "#         clf.set_params(n_estimators=i)\n",
    "#         clf.fit(x_train, y_train)\n",
    "\n",
    "#         # Record the OOB error for each `n_estimators=i` setting.\n",
    "#         oob_error = 1 - clf.oob_score_\n",
    "#         _tr_score = clf.score(x_train, y_train)\n",
    "#         _t2_score = clf.score(x_test, y_test)\n",
    "#         error_rate[label].append((i, oob_error))\n",
    "#         train_score[label].append((i, _tr_score))\n",
    "#         test_score[label].append((i, _t2_score))\n"
   ]
  },
  {
   "cell_type": "code",
   "execution_count": 20,
   "id": "66b4d106",
   "metadata": {
    "jupyter": {
     "source_hidden": true
    },
    "tags": []
   },
   "outputs": [],
   "source": [
    "# plt.figure(figsize=(8,20))\n",
    "# # Generate the \"OOB error rate\" vs. \"n_estimators\" plot.\n",
    "# ax = plt.subplot(311)\n",
    "# for label, clf_err in error_rate.items():\n",
    "#     xs, ys = zip(*clf_err)\n",
    "#     plt.plot(xs, ys, label=label)\n",
    "\n",
    "# plt.xlim(min_estimators, max_estimators)\n",
    "# plt.xlabel(\"n_estimators\")\n",
    "# plt.ylabel(\"OOB error rate\")\n",
    "# plt.legend(loc=\"upper right\")\n",
    "\n",
    "# ax = plt.subplot(312)\n",
    "# for label, _tr_sc in train_score.items():\n",
    "#     xs, ys = zip(*_tr_sc)\n",
    "#     plt.plot(xs, ys, label=label)\n",
    "\n",
    "# plt.xlim(min_estimators, max_estimators)\n",
    "# plt.xlabel(\"n_estimators\")\n",
    "# plt.ylabel(\"train score $R^2$\")\n",
    "# plt.legend(loc=\"lower right\")\n",
    "\n",
    "\n",
    "# ax = plt.subplot(313)\n",
    "# for label, _te_sc in test_score.items():\n",
    "#     xs, ys = zip(*_te_sc)\n",
    "#     plt.plot(xs, ys, label=label)\n",
    "\n",
    "# plt.xlim(min_estimators, max_estimators)\n",
    "# plt.xlabel(\"n_estimators\")\n",
    "# plt.ylabel(\"test score $R^2$\")\n",
    "# plt.legend()#loc=\"upper right\")\n",
    "\n",
    "# plt.savefig(f'{fig_dir}/RandomForestComparisons.png', bbox_inches='tight')\n",
    "# # plt.show()"
   ]
  },
  {
   "cell_type": "code",
   "execution_count": 21,
   "id": "c6c4af8b",
   "metadata": {
    "tags": []
   },
   "outputs": [],
   "source": [
    "rf_reg = sk.ensemble.RandomForestRegressor(n_jobs=20, \n",
    "                                  random_state=seed,\n",
    "                                  max_features=None,\n",
    "                                  n_estimators=200,\n",
    "                                 ).fit(x_train, y_train.squeeze())"
   ]
  },
  {
   "cell_type": "code",
   "execution_count": 22,
   "id": "08ee64e7",
   "metadata": {},
   "outputs": [
    {
     "name": "stdout",
     "output_type": "stream",
     "text": [
      "train R²=0.9685, test R²=0.8085\n"
     ]
    }
   ],
   "source": [
    "print(f'train R\\u00b2={rf_reg.score(x_train, y_train):.4f}, test R\\u00b2={rf_reg.score(x_test, y_test):.4f}')"
   ]
  },
  {
   "cell_type": "code",
   "execution_count": 23,
   "id": "76187823",
   "metadata": {
    "tags": []
   },
   "outputs": [],
   "source": [
    "cmap = mpl.cm.viridis\n",
    "cruise_list = sorted(df.iloc[x_train.index].Cruise.unique())\n",
    "markers = ['s','o','+','v']"
   ]
  },
  {
   "cell_type": "code",
   "execution_count": 31,
   "id": "4247e914",
   "metadata": {
    "tags": []
   },
   "outputs": [
    {
     "data": {
      "image/png": "[encoded data removed]",
      "text/plain": [
       "<Figure size 432x288 with 1 Axes>"
      ]
     },
     "metadata": {
      "needs_background": "light"
     },
     "output_type": "display_data"
    }
   ],
   "source": [
    "# Plot training data prediction model\n",
    "\n",
    "Y_trpred = pd.DataFrame(y_scaler.inverse_transform(np.expand_dims(rf_reg.predict(x_train), axis=1)), columns=predictions)\n",
    "Y_train = pd.DataFrame(y_scaler.inverse_transform(y_train), columns=predictions)\n",
    "X_cruise = df.iloc[x_train.index].Cruise\n",
    "num_Cruise = len(cruise_list)\n",
    "\n",
    "f = plt.figure()\n",
    "for idx,var in enumerate(y_train.columns):\n",
    "    ax = plt.subplot(1, 1, idx+1)\n",
    "    for idx,cruise in enumerate(cruise_list):\n",
    "        Y_train_ = Y_train.loc[(X_cruise == cruise).values]\n",
    "        Y_trpred_ = Y_trpred.loc[(X_cruise == cruise).values]\n",
    "        marker = markers[idx%4]\n",
    "        plt.scatter(Y_trpred_[var], Y_train_[var], marker=marker, color=cmap(idx/num_Cruise), label=cruise)\n",
    "    z = np.polyfit(Y_trpred[var], Y_train[var], 1)\n",
    "    p = np.poly1d(z)\n",
    "    plt.plot(sorted(Y_train[var]), p(sorted(Y_train[var])), \"r-\")\n",
    "    plt.plot(ax.get_xlim(), ax.get_xlim())\n",
    "    MSE_score = sk.metrics.mean_squared_error(Y_train[var], Y_trpred[var])\n",
    "    R2_score = sk.metrics.r2_score(Y_train[var], Y_trpred[var])\n",
    "    plt.title(\n",
    "        f\"{var} prediction (train) \\nMSE {MSE_score:.3}, $R^2$ = {R2_score:.3}, n={y_train.shape[0]}\"\n",
    "    )\n",
    "    plt.xlabel(f'Predicted {var} Values ({var_units[var]})')\n",
    "    plt.ylabel(f'Measured {var} Values ({var_units[var]})')\n",
    "\n",
    "\n",
    "    plt.legend()\n",
    "if len(predictors) > 7:\n",
    "    f.text(.5, -0.1, f\"Variables Used: {predictors[:7]}\", ha=\"center\", wrap=True)\n",
    "    f.text(.5, -0.15, f\"{predictors[7:]}\", ha=\"center\", wrap=True)\n",
    "else:\n",
    "    f.text(.5, -0.1, f\"Variables Used: {predictors}\", ha=\"center\", wrap=True)\n",
    "plt.subplots_adjust(left=0.1,\n",
    "                    bottom=0.1, \n",
    "                    right=0.9, \n",
    "                    top=0.9, \n",
    "                    wspace=0.4, \n",
    "                    hspace=0.4)\n",
    "plt.savefig(f'{fig_dir}/{var}_train_prediction.png', bbox_inches='tight')\n",
    "plt.show()"
   ]
  },
  {
   "cell_type": "code",
   "execution_count": 33,
   "id": "229e9c85",
   "metadata": {
    "tags": []
   },
   "outputs": [
    {
     "data": {
      "image/png": "[encoded data removed]",
      "text/plain": [
       "<Figure size 432x288 with 1 Axes>"
      ]
     },
     "metadata": {
      "needs_background": "light"
     },
     "output_type": "display_data"
    }
   ],
   "source": [
    "# Plot test data prediction model\n",
    "\n",
    "X_cruise = df.iloc[x_test.index].Cruise\n",
    "Y_pred = pd.DataFrame(y_scaler.inverse_transform(np.expand_dims(rf_reg.predict(x_test), axis=1)), columns=predictions)\n",
    "Y_test = pd.DataFrame(y_scaler.inverse_transform(y_test), columns=predictions)\n",
    "\n",
    "\n",
    "f = plt.figure()\n",
    "for idx,var in enumerate(y_test.columns):\n",
    "    ax = plt.subplot(1, 1, idx+1)\n",
    "    for idx,cruise in enumerate(cruise_list):\n",
    "        Y_test_ = Y_test.loc[(X_cruise == cruise).values]\n",
    "        Y_pred_ = Y_pred.loc[(X_cruise == cruise).values]\n",
    "        marker = markers[idx%4]\n",
    "        plt.scatter(Y_pred_[var], Y_test_[var], marker=marker, color=cmap(idx/num_Cruise), label=cruise)\n",
    "    z = np.polyfit(Y_pred[var], Y_test[var], 1)\n",
    "    p = np.poly1d(z)\n",
    "    plt.plot(sorted(Y_test[var]), p(sorted(Y_test[var])),  \"r-\")\n",
    "    plt.plot(ax.get_xlim(), ax.get_xlim())\n",
    "    MSE_score = sk.metrics.mean_squared_error(Y_test[var], Y_pred[var])\n",
    "    R2_score = sk.metrics.r2_score(Y_test[var], Y_pred[var])\n",
    "    plt.title(\n",
    "        f\"{var} prediction (test) \\nMSE {MSE_score:.3}, $R^2$ = {R2_score:.3}, n={y_test.shape[0]}\"\n",
    "    )\n",
    "    plt.xlabel(f'Predicted {var} Values ({var_units[var]})')\n",
    "    plt.ylabel(f'Measured {var} Values ({var_units[var]})')\n",
    "    plt.legend()\n",
    "if len(predictors) > 7:\n",
    "    f.text(.5, -0.1, f\"Variables Used: {predictors[:7]}\", ha=\"center\", wrap=True)\n",
    "    f.text(.5, -0.15, f\"{predictors[7:]}\", ha=\"center\", wrap=True)\n",
    "else:\n",
    "    f.text(.5, -0.1, f\"Variables Used: {predictors}\", ha=\"center\", wrap=True)\n",
    "plt.subplots_adjust(left=0.1,\n",
    "                    bottom=0.1, \n",
    "                    right=0.9, \n",
    "                    top=0.9, \n",
    "                    wspace=0.4, \n",
    "                    hspace=0.4)\n",
    "plt.savefig(f'{fig_dir}/{var}_test_prediction.png', bbox_inches='tight')\n",
    "plt.show()"
   ]
  },
  {
   "cell_type": "code",
   "execution_count": 34,
   "id": "2180d39e",
   "metadata": {
    "tags": []
   },
   "outputs": [
    {
     "name": "stderr",
     "output_type": "stream",
     "text": [
      "/tmp/ipykernel_60263/3635841807.py:3: SettingWithCopyWarning: \n",
      "A value is trying to be set on a copy of a slice from a DataFrame.\n",
      "Try using .loc[row_indexer,col_indexer] = value instead\n",
      "\n",
      "See the caveats in the documentation: https://pandas.pydata.org/pandas-docs/stable/user_guide/indexing.html#returning-a-view-versus-a-copy\n",
      "  df_train_out['k_pred'] = Y_trpred.values\n",
      "/tmp/ipykernel_60263/3635841807.py:4: SettingWithCopyWarning: \n",
      "A value is trying to be set on a copy of a slice from a DataFrame.\n",
      "Try using .loc[row_indexer,col_indexer] = value instead\n",
      "\n",
      "See the caveats in the documentation: https://pandas.pydata.org/pandas-docs/stable/user_guide/indexing.html#returning-a-view-versus-a-copy\n",
      "  df_train_out['k_measure'] = Y_train.values\n",
      "/tmp/ipykernel_60263/3635841807.py:5: SettingWithCopyWarning: \n",
      "A value is trying to be set on a copy of a slice from a DataFrame.\n",
      "Try using .loc[row_indexer,col_indexer] = value instead\n",
      "\n",
      "See the caveats in the documentation: https://pandas.pydata.org/pandas-docs/stable/user_guide/indexing.html#returning-a-view-versus-a-copy\n",
      "  df_train_out['dataset'] = 'train'\n",
      "/tmp/ipykernel_60263/3635841807.py:8: SettingWithCopyWarning: \n",
      "A value is trying to be set on a copy of a slice from a DataFrame.\n",
      "Try using .loc[row_indexer,col_indexer] = value instead\n",
      "\n",
      "See the caveats in the documentation: https://pandas.pydata.org/pandas-docs/stable/user_guide/indexing.html#returning-a-view-versus-a-copy\n",
      "  df_test_out['k_pred'] = Y_pred.values\n",
      "/tmp/ipykernel_60263/3635841807.py:9: SettingWithCopyWarning: \n",
      "A value is trying to be set on a copy of a slice from a DataFrame.\n",
      "Try using .loc[row_indexer,col_indexer] = value instead\n",
      "\n",
      "See the caveats in the documentation: https://pandas.pydata.org/pandas-docs/stable/user_guide/indexing.html#returning-a-view-versus-a-copy\n",
      "  df_test_out['k_measure'] = Y_test.values\n",
      "/tmp/ipykernel_60263/3635841807.py:10: SettingWithCopyWarning: \n",
      "A value is trying to be set on a copy of a slice from a DataFrame.\n",
      "Try using .loc[row_indexer,col_indexer] = value instead\n",
      "\n",
      "See the caveats in the documentation: https://pandas.pydata.org/pandas-docs/stable/user_guide/indexing.html#returning-a-view-versus-a-copy\n",
      "  df_test_out['dataset'] = 'test'\n"
     ]
    }
   ],
   "source": [
    "# Combine data input output CSV for further analysis\n",
    "df_train_out = df.iloc[x_train.index]\n",
    "df_train_out['k_pred'] = Y_trpred.values\n",
    "df_train_out['k_measure'] = Y_train.values\n",
    "df_train_out['dataset'] = 'train'\n",
    "\n",
    "df_test_out = df.iloc[x_test.index]\n",
    "df_test_out['k_pred'] = Y_pred.values\n",
    "df_test_out['k_measure'] = Y_test.values\n",
    "df_test_out['dataset'] = 'test'\n",
    "\n",
    "df_pred = pd.concat([df_train_out, df_test_out])\n",
    "# df_pred[['k_pred','k_measure']]\n",
    "df_pred.to_csv(f'{fig_dir}/Initial_Data.csv')"
   ]
  },
  {
   "cell_type": "markdown",
   "id": "e632450f",
   "metadata": {},
   "source": [
    "# Evaluate on Separate Cruise Data"
   ]
  },
  {
   "cell_type": "code",
   "execution_count": 35,
   "id": "020bd346",
   "metadata": {
    "tags": []
   },
   "outputs": [
    {
     "data": {
      "text/plain": [
       "[]"
      ]
     },
     "execution_count": 35,
     "metadata": {},
     "output_type": "execute_result"
    }
   ],
   "source": [
    "test_files = glob.glob('new_cruise_data/*.txt')\n",
    "test_files"
   ]
  },
  {
   "cell_type": "code",
   "execution_count": null,
   "id": "b6b72042",
   "metadata": {
    "tags": []
   },
   "outputs": [],
   "source": [
    "df_list = []\n",
    "for file_load in test_files:\n",
    "    print(file_load)#[5:-15])\n",
    "    df_ = pd.read_csv(file_load,\n",
    "                     parse_dates=[0],\n",
    "                     skiprows=list(range(36)),\n",
    "                     # header=1,\n",
    "                     sep='\\t',\n",
    "                     )\n",
    "    df_['Cruise'] = file_load[11:].split('_')[0]\n",
    "    df_list.append(df_)\n",
    "\n",
    "df_test = pd.concat(df_list, \n",
    "               axis=0, \n",
    "               ignore_index=True\n",
    "              )\n",
    "df_test['date-time'] = pd.to_datetime(df_test.YearMonthDay_TimeUTC, format='%Y%m%d%H%M.%f')\n",
    "df_test = df_test.drop(columns=['YearMonthDay_TimeUTC'])"
   ]
  },
  {
   "cell_type": "code",
   "execution_count": null,
   "id": "0feba656",
   "metadata": {
    "tags": []
   },
   "outputs": [],
   "source": [
    "col_rename = {\n",
    "    # 'U10N (m/s)':'U10n_insitu_m_s',\n",
    "    # 'SST (oC)':'SST_C',\n",
    "    # 'latitude (-90~90)':'lat_deg',\n",
    "    'date-time':'YearMonthDay_TimeUTC',\n",
    "    # 'K660 (cm/hr)':'kCO2660_cm_hr'\n",
    "}\n",
    "\n",
    "df_test = df_test.rename(columns=col_rename)\n"
   ]
  },
  {
   "cell_type": "code",
   "execution_count": null,
   "id": "ac1b633c",
   "metadata": {
    "tags": []
   },
   "outputs": [],
   "source": [
    "def create_features(df):\n",
    "    \n",
    "    rad_angle_diff = (df.Wdir_ECMWF_deg - df.Swell_dir_ECMWF_deg)*math.pi/180\n",
    "    df['Wdir_swell_angle_arctan'] = np.arctan2(np.sin(rad_angle_diff), np.cos(rad_angle_diff))\n",
    "    # wavelength from wave period in m\n",
    "    df['Wave_total_wavelength'] = (9.81 * df.MeanPeriod_ECMWF_tot_s**2) / (2*np.pi)\n",
    "\n",
    "    # steepness of waves: wave height/wavelength\n",
    "    df['Wave_total_steepness'] = df.Hs_ECMWF_tot_m / df.Wave_total_wavelength\n",
    "\n",
    "    # phase speed of waves. computed using deep water dispersion relationship\n",
    "    df['Wave_total_Cp'] = np.sqrt(9.81/(2*np.pi/df.Wave_total_wavelength))  \n",
    "\n",
    "    # wave age. larger for mature waves (>1 means fully developed); smaller for young waves\n",
    "    df['Wave_total_WaveAge'] = df.Wave_total_Cp / df.U10n_insitu_m_s  \n",
    "\n",
    "    #inverse wave age. might be easier to look at than wave age\n",
    "    df['Wave_total_WaveAge_inv'] = 1/df.Wave_total_WaveAge    \n",
    "\n",
    "    # cos of lat\n",
    "    df['lat_cos'] = np.cos(df.lat_deg / 180 * 2*np.pi)\n",
    "    \n",
    "    \n",
    "    df.sort_values(by='YearMonthDay_TimeUTC', inplace=True)\n",
    "    df['T_lag'] = df['YearMonthDay_TimeUTC'] - df['YearMonthDay_TimeUTC'].shift()\n",
    "    df['U10-1h_lag'] = df['U10n_insitu_m_s'].sort_values().shift()\n",
    "    df.loc[df['T_lag'] != pd.Timedelta('1:00:00'), 'U10-1h_lag'] = np.nan\n",
    "    \n",
    "    return df"
   ]
  },
  {
   "cell_type": "code",
   "execution_count": null,
   "id": "b57c0365",
   "metadata": {
    "tags": []
   },
   "outputs": [],
   "source": [
    "df_test = create_features(df_test)\n",
    "df_test_subset = df_test[predictors+predictions+['Cruise']].dropna()\n",
    "\n",
    "df_test_subset"
   ]
  },
  {
   "cell_type": "code",
   "execution_count": null,
   "id": "16b57135",
   "metadata": {
    "tags": []
   },
   "outputs": [],
   "source": [
    "X_cruise = df_test_subset.Cruise\n",
    "cruise_list = X_cruise.unique()\n",
    "X_test = x_scaler.transform(df_test_subset[predictors])\n",
    "\n",
    "Y_pred = pd.DataFrame(y_scaler.inverse_transform(np.expand_dims(rf_reg.predict(X_test), axis=1)), columns=predictions)\n",
    "Y_test = df_test_subset[predictions]\n",
    "\n",
    "var_units = {'kCO2660_cm_hr':'cm/hr'}\n",
    "\n",
    "f = plt.figure(figsize=(6,10))\n",
    "var = 'kCO2660_cm_hr'\n",
    "# for idx,var in enumerate(Y_test.columns):\n",
    "    # ax = plt.subplot(1, 4, idx+1)\n",
    "    # plt.plot(Y_test[var], Y_pred[var], marker=\"o\", linestyle=\"\")\n",
    "for idx,cruise in enumerate(cruise_list):\n",
    "    ax = plt.subplot(2, 1, idx+1)\n",
    "    Y_test_ = Y_test.loc[(X_cruise == cruise).values]\n",
    "    Y_pred_ = Y_pred.loc[(X_cruise == cruise).values]\n",
    "    marker = markers[idx%4]\n",
    "    plt.scatter(Y_pred_[var], Y_test_[var], marker=marker, color=cmap(idx/len(cruise_list)), label=cruise)\n",
    "    z = np.polyfit(Y_pred_[var], Y_test_[var], 1)\n",
    "    p = np.poly1d(z)\n",
    "    plt.plot(sorted(Y_test_[var]), p(sorted(Y_test_[var])), \"r-\")\n",
    "    # plt.xscale(\"log\")\n",
    "    # plt.yscale(\"log\")\n",
    "    plt.plot(ax.get_xlim(), ax.get_xlim())\n",
    "    MSE_score = sk.metrics.mean_squared_error(Y_test_[var], Y_pred_[var])\n",
    "    R2_score = sk.metrics.r2_score(Y_test_[var], Y_pred_[var])\n",
    "    plt.title(\n",
    "        f\"{var} prediction {cruise} (test) \\nMSE {MSE_score:.3}, $R^2$ = {R2_score:.3}, n={Y_test_.shape[0]}\"\n",
    "    )\n",
    "    plt.xlabel(f'Predicted {var} Values ({var_units[var]})')\n",
    "    plt.ylabel(f'Measured {var} Values ({var_units[var]})')\n",
    "    plt.legend()#['Data Point', 'Linear Regression', 'Origin Line'])\n",
    "\n",
    "if len(predictors) > 7:\n",
    "    f.text(.5, -0.1, f\"Variables Used: {predictors[:6]}\", ha=\"center\", wrap=True)\n",
    "    f.text(.5, -0.15, f\"{predictors[6:]}\", ha=\"center\", wrap=True)\n",
    "else:\n",
    "    f.text(.5, -0.1, f\"Variables Used: {predictors}\", ha=\"center\", wrap=True)\n",
    "    \n",
    "plt.subplots_adjust(left=0.1,\n",
    "                    bottom=0.1, \n",
    "                    right=0.9, \n",
    "                    top=0.9, \n",
    "                    wspace=0.4, \n",
    "                    hspace=0.4)\n",
    "plt.savefig(f'{fig_dir}/{var}_posttest_prediction.png', bbox_inches='tight')\n",
    "plt.show()"
   ]
  },
  {
   "cell_type": "code",
   "execution_count": null,
   "id": "86d7f75d",
   "metadata": {
    "tags": []
   },
   "outputs": [],
   "source": [
    "df_test_2 = df_test_subset#.iloc[x_train.index]\n",
    "df_test_2['k_pred'] = Y_pred.values\n",
    "df_test_2['k_measure'] = Y_test.values\n",
    "\n",
    "# df_pred = pd.concat([df_train, df_test])\n",
    "# df_test_2[['k_pred','k_measure']]\n",
    "\n",
    "df_test_2.to_csv(f'{fig_dir}/Validation_Cruise_Data.csv')"
   ]
  },
  {
   "cell_type": "markdown",
   "id": "eb0df58b",
   "metadata": {},
   "source": [
    "# SHAP Analysis"
   ]
  },
  {
   "cell_type": "code",
   "execution_count": null,
   "id": "d7c3f71a",
   "metadata": {
    "tags": []
   },
   "outputs": [],
   "source": [
    "# !pip install shap\n",
    "# import shap"
   ]
  },
  {
   "cell_type": "code",
   "execution_count": null,
   "id": "d44a1c8f",
   "metadata": {
    "tags": []
   },
   "outputs": [],
   "source": [
    "explainer = shap.Explainer(rf_reg)\n",
    "shap_values = explainer(x_train)"
   ]
  },
  {
   "cell_type": "code",
   "execution_count": null,
   "id": "ac078cc9",
   "metadata": {
    "tags": []
   },
   "outputs": [],
   "source": [
    "shap.plots.bar(shap_values, show=False)\n",
    "plt.savefig(f'{fig_dir}/shap_feature_importance.png', bbox_inches='tight')\n",
    "plt.show()"
   ]
  },
  {
   "cell_type": "code",
   "execution_count": null,
   "id": "ae510783",
   "metadata": {
    "tags": []
   },
   "outputs": [],
   "source": [
    "svcopy = shap_values[0]\n",
    "# svcopy.base_values = svcopy.base_values[0]\n",
    "shap.plots.waterfall(svcopy)"
   ]
  },
  {
   "cell_type": "code",
   "execution_count": null,
   "id": "6e0dba3a",
   "metadata": {
    "tags": []
   },
   "outputs": [],
   "source": [
    "shap.summary_plot(shap_values[:, :], x_train.values, show=False)\n",
    "plt.savefig(f'{fig_dir}/shap_plot.png')\n",
    "plt.show()"
   ]
  },
  {
   "cell_type": "code",
   "execution_count": null,
   "id": "3437218d",
   "metadata": {
    "tags": []
   },
   "outputs": [],
   "source": [
    "for sel_feat in shap_values.feature_names:\n",
    "    shap.dependence_plot(sel_feat, \n",
    "                         shap_values=shap_values.values, \n",
    "                         features=x_train,\n",
    "                         show=False,\n",
    "                        )\n",
    "    plt.savefig(f'{fig_dir}/shap_dependence_{sel_feat}.png')\n",
    "    plt.show()"
   ]
  },
  {
   "cell_type": "code",
   "execution_count": null,
   "id": "7e936cc9",
   "metadata": {
    "tags": []
   },
   "outputs": [],
   "source": [
    "features_display = x_test.columns\n",
    "expected_value = explainer.expected_value\n",
    "shap.decision_plot(expected_value, shap_values.values[:100,:], features_display, link='logit')\n",
    "plt.savefig(f'{fig_dir}/shap_decision_plot.png')\n"
   ]
  },
  {
   "cell_type": "code",
   "execution_count": null,
   "id": "59664e80",
   "metadata": {
    "tags": []
   },
   "outputs": [],
   "source": [
    "features_display = x_test.columns\n",
    "expected_value = explainer.expected_value\n",
    "shap.decision_plot(expected_value, shap_values.values[:,:], features_display, link='logit')\n",
    "plt.savefig(f'{fig_dir}/shap_decision_plot_2.png')\n"
   ]
  }
 ],
 "metadata": {
  "kernelspec": {
   "display_name": "Python 3 (ipykernel)",
   "language": "python",
   "name": "python3"
  },
  "language_info": {
   "codemirror_mode": {
    "name": "ipython",
    "version": 3
   },
   "file_extension": ".py",
   "mimetype": "text/x-python",
   "name": "python",
   "nbconvert_exporter": "python",
   "pygments_lexer": "ipython3",
   "version": "3.8.12"
  }
 },
 "nbformat": 4,
 "nbformat_minor": 5
}
